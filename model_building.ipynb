{
 "cells": [
  {
   "cell_type": "markdown",
   "source": [
    "# Importing Libraries"
   ],
   "metadata": {
    "collapsed": false
   }
  },
  {
   "cell_type": "code",
   "execution_count": 8,
   "outputs": [],
   "source": [
    "from sklearn.ensemble import RandomForestClassifier\n",
    "from sklearn.naive_bayes import GaussianNB\n",
    "from sklearn.model_selection import train_test_split\n",
    "from sklearn import metrics\n",
    "from sklearn.neighbors import KNeighborsClassifier\n",
    "from sklearn import svm\n",
    "from sklearn import tree\n",
    "import pandas as pd\n",
    "import seaborn as sns\n",
    "import numpy as np\n",
    "import os\n",
    "import scipy"
   ],
   "metadata": {
    "collapsed": false,
    "pycharm": {
     "name": "#%%\n"
    }
   }
  },
  {
   "cell_type": "markdown",
   "source": [
    "## Data Importing"
   ],
   "metadata": {
    "collapsed": false,
    "pycharm": {
     "name": "#%% md\n"
    }
   }
  },
  {
   "cell_type": "code",
   "execution_count": 34,
   "outputs": [
    {
     "data": {
      "text/plain": "   VGRF_skewness  VGRF_kurtosis  HGRF_rms  HGRF_skewness  HGRF_mad  \\\n0           0.10          -1.51    110.82           0.22     76.94   \n1           0.10          -1.48    111.92           0.20     78.04   \n2           0.09          -1.51    106.31           0.18     76.92   \n3           0.11          -1.51    105.91           0.15     76.94   \n4           0.10          -1.52    105.98           0.19     76.16   \n\n   LGRF_kurtosis fatigue_level  \n0           0.20             1  \n1           0.65             1  \n2           0.20             2  \n3           0.41             2  \n4           0.05             3  ",
      "text/html": "<div>\n<style scoped>\n    .dataframe tbody tr th:only-of-type {\n        vertical-align: middle;\n    }\n\n    .dataframe tbody tr th {\n        vertical-align: top;\n    }\n\n    .dataframe thead th {\n        text-align: right;\n    }\n</style>\n<table border=\"1\" class=\"dataframe\">\n  <thead>\n    <tr style=\"text-align: right;\">\n      <th></th>\n      <th>VGRF_skewness</th>\n      <th>VGRF_kurtosis</th>\n      <th>HGRF_rms</th>\n      <th>HGRF_skewness</th>\n      <th>HGRF_mad</th>\n      <th>LGRF_kurtosis</th>\n      <th>fatigue_level</th>\n    </tr>\n  </thead>\n  <tbody>\n    <tr>\n      <th>0</th>\n      <td>0.10</td>\n      <td>-1.51</td>\n      <td>110.82</td>\n      <td>0.22</td>\n      <td>76.94</td>\n      <td>0.20</td>\n      <td>1</td>\n    </tr>\n    <tr>\n      <th>1</th>\n      <td>0.10</td>\n      <td>-1.48</td>\n      <td>111.92</td>\n      <td>0.20</td>\n      <td>78.04</td>\n      <td>0.65</td>\n      <td>1</td>\n    </tr>\n    <tr>\n      <th>2</th>\n      <td>0.09</td>\n      <td>-1.51</td>\n      <td>106.31</td>\n      <td>0.18</td>\n      <td>76.92</td>\n      <td>0.20</td>\n      <td>2</td>\n    </tr>\n    <tr>\n      <th>3</th>\n      <td>0.11</td>\n      <td>-1.51</td>\n      <td>105.91</td>\n      <td>0.15</td>\n      <td>76.94</td>\n      <td>0.41</td>\n      <td>2</td>\n    </tr>\n    <tr>\n      <th>4</th>\n      <td>0.10</td>\n      <td>-1.52</td>\n      <td>105.98</td>\n      <td>0.19</td>\n      <td>76.16</td>\n      <td>0.05</td>\n      <td>3</td>\n    </tr>\n  </tbody>\n</table>\n</div>"
     },
     "execution_count": 34,
     "metadata": {},
     "output_type": "execute_result"
    }
   ],
   "source": [
    "data = pd.read_csv('finalized_labeled_data.csv', index_col=0)\n",
    "data['fatigue_level'] = data['fatigue_level'].astype(\"string\")\n",
    "data.head()"
   ],
   "metadata": {
    "collapsed": false,
    "pycharm": {
     "name": "#%%\n"
    }
   }
  },
  {
   "cell_type": "markdown",
   "source": [
    "## Correlation"
   ],
   "metadata": {
    "collapsed": false
   }
  },
  {
   "cell_type": "code",
   "execution_count": 36,
   "outputs": [
    {
     "data": {
      "text/plain": "               VGRF_skewness  VGRF_kurtosis  HGRF_rms  HGRF_skewness  \\\nVGRF_skewness           1.00           0.17      0.17           0.43   \nVGRF_kurtosis           0.17           1.00     -0.40          -0.11   \nHGRF_rms                0.17          -0.40      1.00           0.22   \nHGRF_skewness           0.43          -0.11      0.22           1.00   \nHGRF_mad                0.20          -0.43      0.99           0.26   \nLGRF_kurtosis          -0.22          -0.61      0.20          -0.38   \n\n               HGRF_mad  LGRF_kurtosis  \nVGRF_skewness      0.20          -0.22  \nVGRF_kurtosis     -0.43          -0.61  \nHGRF_rms           0.99           0.20  \nHGRF_skewness      0.26          -0.38  \nHGRF_mad           1.00           0.19  \nLGRF_kurtosis      0.19           1.00  ",
      "text/html": "<div>\n<style scoped>\n    .dataframe tbody tr th:only-of-type {\n        vertical-align: middle;\n    }\n\n    .dataframe tbody tr th {\n        vertical-align: top;\n    }\n\n    .dataframe thead th {\n        text-align: right;\n    }\n</style>\n<table border=\"1\" class=\"dataframe\">\n  <thead>\n    <tr style=\"text-align: right;\">\n      <th></th>\n      <th>VGRF_skewness</th>\n      <th>VGRF_kurtosis</th>\n      <th>HGRF_rms</th>\n      <th>HGRF_skewness</th>\n      <th>HGRF_mad</th>\n      <th>LGRF_kurtosis</th>\n    </tr>\n  </thead>\n  <tbody>\n    <tr>\n      <th>VGRF_skewness</th>\n      <td>1.00</td>\n      <td>0.17</td>\n      <td>0.17</td>\n      <td>0.43</td>\n      <td>0.20</td>\n      <td>-0.22</td>\n    </tr>\n    <tr>\n      <th>VGRF_kurtosis</th>\n      <td>0.17</td>\n      <td>1.00</td>\n      <td>-0.40</td>\n      <td>-0.11</td>\n      <td>-0.43</td>\n      <td>-0.61</td>\n    </tr>\n    <tr>\n      <th>HGRF_rms</th>\n      <td>0.17</td>\n      <td>-0.40</td>\n      <td>1.00</td>\n      <td>0.22</td>\n      <td>0.99</td>\n      <td>0.20</td>\n    </tr>\n    <tr>\n      <th>HGRF_skewness</th>\n      <td>0.43</td>\n      <td>-0.11</td>\n      <td>0.22</td>\n      <td>1.00</td>\n      <td>0.26</td>\n      <td>-0.38</td>\n    </tr>\n    <tr>\n      <th>HGRF_mad</th>\n      <td>0.20</td>\n      <td>-0.43</td>\n      <td>0.99</td>\n      <td>0.26</td>\n      <td>1.00</td>\n      <td>0.19</td>\n    </tr>\n    <tr>\n      <th>LGRF_kurtosis</th>\n      <td>-0.22</td>\n      <td>-0.61</td>\n      <td>0.20</td>\n      <td>-0.38</td>\n      <td>0.19</td>\n      <td>1.00</td>\n    </tr>\n  </tbody>\n</table>\n</div>"
     },
     "execution_count": 36,
     "metadata": {},
     "output_type": "execute_result"
    }
   ],
   "source": [
    "data.corr()"
   ],
   "metadata": {
    "collapsed": false,
    "pycharm": {
     "name": "#%%\n"
    }
   }
  },
  {
   "cell_type": "code",
   "execution_count": 37,
   "outputs": [
    {
     "data": {
      "text/plain": "<AxesSubplot:>"
     },
     "execution_count": 37,
     "metadata": {},
     "output_type": "execute_result"
    },
    {
     "data": {
      "text/plain": "<Figure size 432x288 with 2 Axes>",
      "image/png": "[encoded data removed]"
     },
     "metadata": {
      "needs_background": "light"
     },
     "output_type": "display_data"
    }
   ],
   "source": [
    "cmap = sns.diverging_palette(230, 20, as_cmap=True)\n",
    "\n",
    "sns.heatmap(data.corr(), cmap = cmap, vmax=1, center=0,\n",
    "            square=True, linewidths=.5, cbar_kws={\"shrink\": .5})"
   ],
   "metadata": {
    "collapsed": false,
    "pycharm": {
     "name": "#%%\n"
    }
   }
  },
  {
   "cell_type": "markdown",
   "source": [
    "## Model Building"
   ],
   "metadata": {
    "collapsed": false,
    "pycharm": {
     "name": "#%% md\n"
    }
   }
  },
  {
   "cell_type": "markdown",
   "source": [
    "### Random Forest Classifier"
   ],
   "metadata": {
    "collapsed": false,
    "pycharm": {
     "name": "#%% md\n"
    }
   }
  },
  {
   "cell_type": "code",
   "execution_count": 47,
   "outputs": [
    {
     "name": "stdout",
     "output_type": "stream",
     "text": [
      "Accuracy:  0.375\n"
     ]
    }
   ],
   "source": [
    "X = data.drop(columns=['fatigue_level'])\n",
    "y = data['fatigue_level']\n",
    "\n",
    "X_train, X_test, y_train, y_test = train_test_split(X, y, test_size=0.4, random_state=42)\n",
    "clf = RandomForestClassifier(max_depth=10) #random_state=42\n",
    "clf.fit(X_train, y_train)\n",
    "\n",
    "y_pred = clf.predict(X_test)\n",
    "\n",
    "# using metrics module for accuracy calculation\n",
    "print(\"Accuracy: \", metrics.accuracy_score(y_test, y_pred))"
   ],
   "metadata": {
    "collapsed": false,
    "pycharm": {
     "name": "#%%\n"
    }
   }
  },
  {
   "cell_type": "markdown",
   "source": [
    "### Naive Bayes"
   ],
   "metadata": {
    "collapsed": false,
    "pycharm": {
     "name": "#%% md\n"
    }
   }
  },
  {
   "cell_type": "code",
   "execution_count": 46,
   "outputs": [
    {
     "name": "stdout",
     "output_type": "stream",
     "text": [
      "Accuracy:  0.25\n"
     ]
    }
   ],
   "source": [
    "X = data.drop(columns=['fatigue_level'])\n",
    "y = data['fatigue_level']\n",
    "\n",
    "X_train, X_test, y_train, y_test = train_test_split(X, y, test_size=0.4, random_state=42)\n",
    "gnb = GaussianNB()\n",
    "gnb.fit(X_train, y_train)\n",
    "\n",
    "y_pred = gnb.predict(X_test)\n",
    "\n",
    "# using metrics module for accuracy calculation\n",
    "print(\"Accuracy: \", metrics.accuracy_score(y_test, y_pred))"
   ],
   "metadata": {
    "collapsed": false,
    "pycharm": {
     "name": "#%%\n"
    }
   }
  },
  {
   "cell_type": "markdown",
   "source": [
    "### Decision Tree"
   ],
   "metadata": {
    "collapsed": false,
    "pycharm": {
     "name": "#%% md\n"
    }
   }
  },
  {
   "cell_type": "code",
   "execution_count": 44,
   "outputs": [
    {
     "name": "stdout",
     "output_type": "stream",
     "text": [
      "Accuracy:  0.4166666666666667\n"
     ]
    }
   ],
   "source": [
    "X = data.drop(columns=['fatigue_level'])\n",
    "y = data['fatigue_level']\n",
    "\n",
    "X_train, X_test, y_train, y_test = train_test_split(X, y, test_size=0.4, random_state=42)\n",
    "dt = tree.DecisionTreeClassifier(max_depth=10)\n",
    "dt.fit(X_train, y_train)\n",
    "\n",
    "y_pred = dt.predict(X_test)\n",
    "\n",
    "# using metrics module for accuracy calculation\n",
    "print(\"Accuracy: \", metrics.accuracy_score(y_test, y_pred))"
   ],
   "metadata": {
    "collapsed": false,
    "pycharm": {
     "name": "#%%\n"
    }
   }
  },
  {
   "cell_type": "markdown",
   "source": [
    "## KNN"
   ],
   "metadata": {
    "collapsed": false,
    "pycharm": {
     "name": "#%% md\n"
    }
   }
  },
  {
   "cell_type": "code",
   "execution_count": 39,
   "outputs": [
    {
     "name": "stdout",
     "output_type": "stream",
     "text": [
      "Accuracy:  0.4583333333333333\n"
     ]
    }
   ],
   "source": [
    "X = data.drop(columns=['fatigue_level'])\n",
    "y = data['fatigue_level']\n",
    "\n",
    "X_train, X_test, y_train, y_test = train_test_split(X, y, test_size=0.4, random_state=42)\n",
    "knn = KNeighborsClassifier(n_neighbors=3)\n",
    "knn.fit(X_train, y_train)\n",
    "\n",
    "y_pred = knn.predict(X_test)\n",
    "\n",
    "# using metrics module for accuracy calculation\n",
    "print(\"Accuracy: \", metrics.accuracy_score(y_test, y_pred))"
   ],
   "metadata": {
    "collapsed": false,
    "pycharm": {
     "name": "#%%\n"
    }
   }
  },
  {
   "cell_type": "markdown",
   "source": [
    "## lazypredict"
   ],
   "metadata": {
    "collapsed": false,
    "pycharm": {
     "name": "#%% md\n"
    }
   }
  },
  {
   "cell_type": "code",
   "execution_count": 41,
   "outputs": [
    {
     "name": "stderr",
     "output_type": "stream",
     "text": [
      "100%|██████████| 29/29 [00:01<00:00, 20.76it/s]"
     ]
    },
    {
     "name": "stdout",
     "output_type": "stream",
     "text": [
      "                               Accuracy  Balanced Accuracy ROC AUC  F1 Score  \\\n",
      "Model                                                                          \n",
      "LinearDiscriminantAnalysis         0.58               0.57    None      0.61   \n",
      "LogisticRegression                 0.58               0.56    None      0.60   \n",
      "LinearSVC                          0.58               0.54    None      0.60   \n",
      "RidgeClassifier                    0.58               0.54    None      0.58   \n",
      "SGDClassifier                      0.58               0.54    None      0.59   \n",
      "ExtraTreesClassifier               0.50               0.50    None      0.53   \n",
      "CalibratedClassifierCV             0.46               0.49    None      0.47   \n",
      "RidgeClassifierCV                  0.50               0.47    None      0.52   \n",
      "NuSVC                              0.46               0.46    None      0.48   \n",
      "RandomForestClassifier             0.46               0.46    None      0.47   \n",
      "Perceptron                         0.46               0.45    None      0.44   \n",
      "DecisionTreeClassifier             0.42               0.42    None      0.42   \n",
      "LabelPropagation                   0.42               0.40    None      0.45   \n",
      "LabelSpreading                     0.42               0.40    None      0.45   \n",
      "ExtraTreeClassifier                0.42               0.39    None      0.43   \n",
      "AdaBoostClassifier                 0.33               0.37    None      0.32   \n",
      "DummyClassifier                    0.25               0.33    None      0.10   \n",
      "SVC                                0.25               0.33    None      0.10   \n",
      "LGBMClassifier                     0.25               0.33    None      0.10   \n",
      "PassiveAggressiveClassifier        0.33               0.33    None      0.32   \n",
      "QuadraticDiscriminantAnalysis      0.33               0.32    None      0.34   \n",
      "BernoulliNB                        0.29               0.31    None      0.29   \n",
      "BaggingClassifier                  0.33               0.31    None      0.34   \n",
      "NearestCentroid                    0.29               0.25    None      0.31   \n",
      "GaussianNB                         0.25               0.24    None      0.27   \n",
      "KNeighborsClassifier               0.17               0.18    None      0.14   \n",
      "\n",
      "                               Time Taken  \n",
      "Model                                      \n",
      "LinearDiscriminantAnalysis           0.01  \n",
      "LogisticRegression                   0.02  \n",
      "LinearSVC                            0.01  \n",
      "RidgeClassifier                      0.03  \n",
      "SGDClassifier                        0.02  \n",
      "ExtraTreesClassifier                 0.20  \n",
      "CalibratedClassifierCV               0.06  \n",
      "RidgeClassifierCV                    0.02  \n",
      "NuSVC                                0.02  \n",
      "RandomForestClassifier               0.31  \n",
      "Perceptron                           0.02  \n",
      "DecisionTreeClassifier               0.01  \n",
      "LabelPropagation                     0.02  \n",
      "LabelSpreading                       0.01  \n",
      "ExtraTreeClassifier                  0.03  \n",
      "AdaBoostClassifier                   0.32  \n",
      "DummyClassifier                      0.02  \n",
      "SVC                                  0.01  \n",
      "LGBMClassifier                       0.05  \n",
      "PassiveAggressiveClassifier          0.01  \n",
      "QuadraticDiscriminantAnalysis        0.02  \n",
      "BernoulliNB                          0.01  \n",
      "BaggingClassifier                    0.07  \n",
      "NearestCentroid                      0.01  \n",
      "GaussianNB                           0.01  \n",
      "KNeighborsClassifier                 0.01  \n"
     ]
    },
    {
     "name": "stderr",
     "output_type": "stream",
     "text": [
      "\n"
     ]
    }
   ],
   "source": [
    "from lazypredict.Supervised import LazyClassifier\n",
    "\n",
    "X_train, X_test, y_train, y_test = train_test_split(X, y, test_size=0.4, random_state=42)\n",
    "lazyclassf = LazyClassifier(verbose=0, ignore_warnings=True, custom_metric=None)\n",
    "models, predictions = lazyclassf.fit(X_train, X_test, y_train, y_test)\n",
    "\n",
    "print(models)"
   ],
   "metadata": {
    "collapsed": false,
    "pycharm": {
     "name": "#%%\n"
    }
   }
  },
  {
   "cell_type": "code",
   "execution_count": 13,
   "outputs": [
    {
     "name": "stdout",
     "output_type": "stream",
     "text": [
      "\u001B[33mDEPRECATION: Configuring installation scheme with distutils config files is deprecated and will no longer work in the near future. If you are using a Homebrew or Linuxbrew Python, please see discussion at https://github.com/Homebrew/homebrew-core/issues/76621\u001B[0m\u001B[33m\r\n",
      "\u001B[0mRequirement already satisfied: lazypredict in /usr/local/lib/python3.9/site-packages (0.2.12)\r\n",
      "Requirement already satisfied: pandas in /usr/local/lib/python3.9/site-packages (from lazypredict) (1.4.2)\r\n",
      "Requirement already satisfied: xgboost in /usr/local/lib/python3.9/site-packages (from lazypredict) (1.7.2)\r\n",
      "Requirement already satisfied: lightgbm in /usr/local/lib/python3.9/site-packages (from lazypredict) (3.3.3)\r\n",
      "Requirement already satisfied: click in /usr/local/lib/python3.9/site-packages (from lazypredict) (8.1.3)\r\n",
      "Requirement already satisfied: tqdm in /usr/local/lib/python3.9/site-packages (from lazypredict) (4.64.1)\r\n",
      "Requirement already satisfied: scikit-learn in /usr/local/lib/python3.9/site-packages (from lazypredict) (1.2.0)\r\n",
      "Requirement already satisfied: joblib in /usr/local/lib/python3.9/site-packages (from lazypredict) (1.2.0)\r\n",
      "Requirement already satisfied: scipy in /usr/local/lib/python3.9/site-packages (from lightgbm->lazypredict) (1.10.0)\r\n",
      "Requirement already satisfied: numpy in /usr/local/lib/python3.9/site-packages (from lightgbm->lazypredict) (1.22.4)\r\n",
      "Requirement already satisfied: wheel in /usr/local/lib/python3.9/site-packages (from lightgbm->lazypredict) (0.37.1)\r\n",
      "Requirement already satisfied: threadpoolctl>=2.0.0 in /usr/local/lib/python3.9/site-packages (from scikit-learn->lazypredict) (3.1.0)\r\n",
      "Requirement already satisfied: pytz>=2020.1 in /usr/local/lib/python3.9/site-packages (from pandas->lazypredict) (2022.1)\r\n",
      "Requirement already satisfied: python-dateutil>=2.8.1 in /usr/local/lib/python3.9/site-packages (from pandas->lazypredict) (2.8.2)\r\n",
      "Requirement already satisfied: six>=1.5 in /usr/local/lib/python3.9/site-packages (from python-dateutil>=2.8.1->pandas->lazypredict) (1.16.0)\r\n",
      "\u001B[33mDEPRECATION: Configuring installation scheme with distutils config files is deprecated and will no longer work in the near future. If you are using a Homebrew or Linuxbrew Python, please see discussion at https://github.com/Homebrew/homebrew-core/issues/76621\u001B[0m\u001B[33m\r\n",
      "\u001B[0m\u001B[33mWARNING: There was an error checking the latest version of pip.\u001B[0m\u001B[33m\r\n",
      "\u001B[0m"
     ]
    }
   ],
   "source": [
    "!pip install lazypredict"
   ],
   "metadata": {
    "collapsed": false,
    "pycharm": {
     "name": "#%%\n"
    }
   }
  }
 ],
 "metadata": {
  "kernelspec": {
   "display_name": "Python 3",
   "language": "python",
   "name": "python3"
  },
  "language_info": {
   "codemirror_mode": {
    "name": "ipython",
    "version": 2
   },
   "file_extension": ".py",
   "mimetype": "text/x-python",
   "name": "python",
   "nbconvert_exporter": "python",
   "pygments_lexer": "ipython2",
   "version": "2.7.6"
  }
 },
 "nbformat": 4,
 "nbformat_minor": 0
}